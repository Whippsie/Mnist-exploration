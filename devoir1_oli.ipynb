{
 "cells": [
  {
   "cell_type": "markdown",
   "metadata": {},
   "source": [
    "# Devoir 1\n",
    "\n",
    "## Initialisations\n",
    "### Importation des modules"
   ]
  },
  {
   "cell_type": "code",
   "execution_count": 1,
   "metadata": {},
   "outputs": [
    {
     "name": "stderr",
     "output_type": "stream",
     "text": [
      "/usr/local/lib/python3.5/dist-packages/sklearn/utils/fixes.py:313: FutureWarning: numpy not_equal will not check object identity in the future. The comparison did not return the same result as suggested by the identity (`is`)) and will change.\n",
      "  _nan_object_mask = _nan_object_array != _nan_object_array\n"
     ]
    }
   ],
   "source": [
    "import numpy as np\n",
    "from sklearn.cluster import KMeans\n",
    "from pyclustering.cluster.kmedoids import kmedoids\n",
    "from pyclustering.cluster.center_initializer import kmeans_plusplus_initializer\n",
    "from sklearn.cluster import AgglomerativeClustering\n",
    "from sklearn.decomposition import PCA\n",
    "import sklearn.metrics as metrics\n",
    "import scipy.fftpack as fftpack\n",
    "import scipy\n",
    "\n",
    "import matplotlib.pyplot as plt\n",
    "import matplotlib.image as img \n",
    "%matplotlib inline"
   ]
  },
  {
   "cell_type": "markdown",
   "metadata": {},
   "source": [
    "### Fonction Utile"
   ]
  },
  {
   "cell_type": "code",
   "execution_count": 2,
   "metadata": {},
   "outputs": [],
   "source": [
    "def printImage(x, width=28, height=28):\n",
    "    plt.imshow(x.reshape((height, width)), cmap='gray')\n"
   ]
  },
  {
   "cell_type": "markdown",
   "metadata": {},
   "source": [
    "## Definition des listes de données mnist\n"
   ]
  },
  {
   "cell_type": "code",
   "execution_count": 3,
   "metadata": {},
   "outputs": [],
   "source": [
    "f = lambda x : 1 if x > 127 else 0\n",
    "normalize = np.vectorize(f)\n",
    "\n",
    "mnist_train = np.loadtxt(\"mnist_train.csv\", delimiter=\",\", skiprows=1)\n",
    "mnist_train[:, 1:] = normalize(mnist_train[:,1:])\n",
    "\n",
    "mnist_test = np.loadtxt(\"mnist_test.csv\", delimiter=\",\", skiprows=1)\n",
    "mnist_test[:, 1:] = normalize(mnist_test[:,1:])\n",
    "\n"
   ]
  },
  {
   "cell_type": "code",
   "execution_count": 4,
   "metadata": {},
   "outputs": [],
   "source": [
    "n_train_data = mnist_train.shape[0]\n",
    "\n",
    "n_test_data = mnist_test.shape[0]\n",
    "\n",
    "ndim = mnist_train.shape[1] - 1\n",
    "img_dim = int(ndim ** (1./2.))"
   ]
  },
  {
   "cell_type": "markdown",
   "metadata": {},
   "source": [
    "## Prétraitement\n",
    "Prétraitement avec Discret cosinus transform"
   ]
  },
  {
   "cell_type": "code",
   "execution_count": 115,
   "metadata": {
    "scrolled": false
   },
   "outputs": [
    {
     "data": {
      "image/png": "[encoded data removed]",
      "text/plain": [
       "<Figure size 432x288 with 1 Axes>"
      ]
     },
     "metadata": {
      "needs_background": "light"
     },
     "output_type": "display_data"
    }
   ],
   "source": [
    "def complex_dist(x, y):\n",
    "    return np.sum(np.abs(x + y), axis=-1)\n",
    "\n",
    "\n",
    "def weighted_dist(x, y, sigma):\n",
    "    result = 0\n",
    "    for i in range(len(x)):\n",
    "        for j in range(len(y)):\n",
    "            result += np.abs(x[i] - y[j]) * sigma[i, j]\n",
    "    return result\n",
    "            \n",
    "def matrix_dist(x, y):\n",
    "    return np.sum(np.abs(x.reshape((28, 28)) - y.reshape((28, 28))))\n",
    "\n",
    "\n",
    "#donne d'entrainement\n",
    "\n",
    "#print(sum_mnist2)\n",
    "mnist_train_mod = mnist_train\n",
    "\n",
    "#donne de test\n",
    "mnist_test_mod = mnist_test\n",
    "\n",
    "#image de la premiere valeur (5)\n",
    "plt.figure()\n",
    "printImage(mnist_train[0, 1:])\n",
    "#image dans la base des frequance apres la transfromer de fourier\n",
    "#plt.figure()\n",
    "#printImage(mnist_train_fft[0, 1:])\n",
    "\n",
    "\n"
   ]
  },
  {
   "cell_type": "markdown",
   "metadata": {},
   "source": [
    "## Traitement par centroid\n",
    "\n",
    "Pour ce traitement on commence par calculé le centroid de limage en calculant la moyenne des coordoné x, y des pixels noires de l'image. Ensuit on subdivise l'image n fois. cela donne $2^n$ sous image. pour chacune de ces sous images on calcul le centroid de celle ci de la même manière que pour l'image complète. Ensuit on garde dans un vecteur les distances entre les cenroides d'une sous-image avec le centroide de l'image complète. ceci nous donne un vecteur de dimension $2^n$. n dans ce model est un hyperparamètre.\n",
    "\n",
    "L'idée derrière cette methode est que si on regarde pixel par pixel deux images d'un même chiffre, on obtient beaucoup de différence. En prenant des sous-sections plus large, on élimine les petites variations de pixels et on garde une forme plus globale. Le fait de prendre la différence entre les centroids des sous-sections et du centroid globale élimine les effet des translation \n",
    "\n",
    "Par la suite la distance euclidienne sera utilisé pour comparer les nouveaux vecteurs obtenues"
   ]
  },
  {
   "cell_type": "code",
   "execution_count": 5,
   "metadata": {},
   "outputs": [
    {
     "name": "stdout",
     "output_type": "stream",
     "text": [
      "[[[ 14.27027027  13.5045045 ]\n",
      "  [  8.27027027   1.5045045 ]\n",
      "  [  8.57027027   3.8954955 ]\n",
      "  [  8.77027027   7.9954955 ]]\n",
      "\n",
      " [[  7.27027027  13.5045045 ]\n",
      "  [  5.27027027   2.33783784]\n",
      "  [  5.63390663   1.95004095]\n",
      "  [  7.27027027   7.4954955 ]]\n",
      "\n",
      " [[  0.27027027  13.5045045 ]\n",
      "  [  5.3963964    0.83783784]\n",
      "  [  3.0511583    3.10263835]\n",
      "  [  0.27027027   7.4954955 ]]\n",
      "\n",
      " [[  9.32972973   8.3045045 ]\n",
      "  [  8.20592021   3.64736165]\n",
      "  [  6.72972973   0.9954955 ]\n",
      "  [  6.72972973   7.4954955 ]]]\n"
     ]
    },
    {
     "data": {
      "image/png": "[encoded data removed]",
      "text/plain": [
       "<Figure size 432x288 with 1 Axes>"
      ]
     },
     "metadata": {
      "needs_background": "light"
     },
     "output_type": "display_data"
    },
    {
     "data": {
      "image/png": "[encoded data removed]",
      "text/plain": [
       "<Figure size 432x288 with 1 Axes>"
      ]
     },
     "metadata": {
      "needs_background": "light"
     },
     "output_type": "display_data"
    },
    {
     "data": {
      "image/png": "[encoded data removed]",
      "text/plain": [
       "<Figure size 432x288 with 1 Axes>"
      ]
     },
     "metadata": {
      "needs_background": "light"
     },
     "output_type": "display_data"
    }
   ],
   "source": [
    "pca = PCA() # objet pca\n",
    "#donné restructuré par chiffre\n",
    "mnist_class = [mnist_train[mnist_train[:,0] == i, 1:] for i in range(10)]\n",
    "\n",
    "# liste des moyenne de chaque chiffre\n",
    "mnist_class_mean = np.array([np.mean(datas, axis=0) for datas in mnist_class])\n",
    "\n",
    "#teste de pca sur les 9\n",
    "mnist9_pca = pca.fit_transform(np.append(mnist_class[9],mnist_class[1], axis=0))\n",
    "\n",
    "\n",
    "###################################################################################################################\n",
    "#retourne le centroid des point noire d'une image en coordonné (vertical, horizontale)\n",
    "def get_center(x):\n",
    "    dx, dy = x.shape[0], x.shape[1]\n",
    "    vect = np.zeros((dx*dy, 2))\n",
    "    k = 0\n",
    "    result = np.zeros((2))\n",
    "    for i in range(dy):\n",
    "        for j in range(dx):\n",
    "            if x[i, j] == 1:\n",
    "                result += np.array([i, j])\n",
    "                k += 1\n",
    "                \n",
    "    return result / k if k > 0 else 0\n",
    "\n",
    "#print(get_center(mnist_train[1, 1:]))\n",
    "\n",
    "#calcul la distance des centroid des différentes \n",
    "#sous-section de l'image avec le centroid de limage total, \n",
    "#le nombre de separation doite etre un diviseur de 28\n",
    "def grid(x, n=2):\n",
    "    ndim = 28\n",
    "    img = x.reshape((28, 28))\n",
    "    delta = ndim // n\n",
    "    center = get_center(img)\n",
    "    centroids = np.zeros((n, n, 2))\n",
    "    for i in range(n):\n",
    "        for j in range(n):\n",
    "            i_square = i*delta\n",
    "            j_square = j*delta \n",
    "            centroids[i, j] = np.array([i_square, j_square]) + get_center(img[i_square:(i+1)*delta, j_square:(j+1)*delta])\n",
    "    return np.abs(centroids - center) #distance de manhattan\n",
    "\n",
    "#applique grid a une liste de donné\n",
    "def to_grids(x, n_sub=2):\n",
    "    n_data = x.shape[0]\n",
    "    n_sub_dim = n_sub**2*2\n",
    "    result = np.zeros((n_data, n_sub_dim))\n",
    "    for i in range(n_data):\n",
    "        result[i] = grid(x[i], n_sub).reshape(n_sub_dim) #les donné sont transformer en vecteur\n",
    "        \n",
    "    return result\n",
    "\n",
    "print(grid(mnist_train[0 ,1:], 4))\n",
    "    \n",
    "printImage(mnist_train[0,1:])\n",
    "plt.figure()\n",
    "printImage(pca.components_[0])\n",
    "plt.figure()\n",
    "printImage(mnist_class_mean[9])"
   ]
  },
  {
   "cell_type": "markdown",
   "metadata": {},
   "source": [
    "## Algorithmes"
   ]
  },
  {
   "cell_type": "code",
   "execution_count": 7,
   "metadata": {},
   "outputs": [
    {
     "name": "stdout",
     "output_type": "stream",
     "text": [
      "[  0.          14.27027027  13.5045045    8.27027027   1.5045045\n",
      "   8.57027027   3.8954955    8.77027027   7.9954955    7.27027027\n",
      "  13.5045045    5.27027027   2.33783784   5.63390663   1.95004095\n",
      "   7.27027027   7.4954955    0.27027027  13.5045045    5.3963964\n",
      "   0.83783784   3.0511583    3.10263835   0.27027027   7.4954955\n",
      "   9.32972973   8.3045045    8.20592021   3.64736165   6.72972973\n",
      "   0.9954955    6.72972973   7.4954955 ]\n"
     ]
    }
   ],
   "source": [
    "n_sub_div = 4 #nombre de subdivision d'image (hyperparamètre)\n",
    "n_sub_dim = n_sub_div**2*2 #dimension du vecteur résultant en fonction du nombre de subdivision\n",
    "\n",
    "#transformation des donné mnist (peu prendre un certain temps)\n",
    "n_example = 5000\n",
    "#entrainement\n",
    "mnist_train_mod = np.zeros((n_example, n_sub_dim + 1))\n",
    "mnist_test_mod = np.zeros((n_example, n_sub_dim + 1))\n",
    "#test\n",
    "mnist_train_mod[:, 1:] = to_grids(mnist_train[:n_example, 1:], n_sub_div)\n",
    "mnist_test_mod[:, 1:] = to_grids(mnist_test[:n_example, 1:], n_sub_div)\n",
    "\n",
    "print(mnist_train_mod[0])"
   ]
  },
  {
   "cell_type": "markdown",
   "metadata": {},
   "source": [
    "### K-medoid"
   ]
  },
  {
   "cell_type": "code",
   "execution_count": 8,
   "metadata": {},
   "outputs": [
    {
     "name": "stdout",
     "output_type": "stream",
     "text": [
      "[  40 4146  526 2267 4184 2280  928 4743 1409  781]\n",
      "[2699, 4118, 4653, 1237, 2207, 2796, 4363, 4897, 215, 745]\n",
      "[2572, 1850, 2298, 2331, 4184, 4371, 3463, 820, 4121, 639]\n"
     ]
    },
    {
     "data": {
      "image/png": "[encoded data removed]",
      "text/plain": [
       "<Figure size 432x288 with 1 Axes>"
      ]
     },
     "metadata": {
      "needs_background": "light"
     },
     "output_type": "display_data"
    },
    {
     "data": {
      "image/png": "[encoded data removed]",
      "text/plain": [
       "<Figure size 432x288 with 1 Axes>"
      ]
     },
     "metadata": {
      "needs_background": "light"
     },
     "output_type": "display_data"
    },
    {
     "data": {
      "image/png": "[encoded data removed]",
      "text/plain": [
       "<Figure size 432x288 with 1 Axes>"
      ]
     },
     "metadata": {
      "needs_background": "light"
     },
     "output_type": "display_data"
    },
    {
     "data": {
      "image/png": "[encoded data removed]",
      "text/plain": [
       "<Figure size 432x288 with 1 Axes>"
      ]
     },
     "metadata": {
      "needs_background": "light"
     },
     "output_type": "display_data"
    },
    {
     "data": {
      "image/png": "[encoded data removed]",
      "text/plain": [
       "<Figure size 432x288 with 1 Axes>"
      ]
     },
     "metadata": {
      "needs_background": "light"
     },
     "output_type": "display_data"
    },
    {
     "data": {
      "image/png": "[encoded data removed]",
      "text/plain": [
       "<Figure size 432x288 with 1 Axes>"
      ]
     },
     "metadata": {
      "needs_background": "light"
     },
     "output_type": "display_data"
    },
    {
     "data": {
      "image/png": "[encoded data removed]",
      "text/plain": [
       "<Figure size 432x288 with 1 Axes>"
      ]
     },
     "metadata": {
      "needs_background": "light"
     },
     "output_type": "display_data"
    },
    {
     "data": {
      "image/png": "[encoded data removed]",
      "text/plain": [
       "<Figure size 432x288 with 1 Axes>"
      ]
     },
     "metadata": {
      "needs_background": "light"
     },
     "output_type": "display_data"
    },
    {
     "data": {
      "image/png": "[encoded data removed]",
      "text/plain": [
       "<Figure size 432x288 with 1 Axes>"
      ]
     },
     "metadata": {
      "needs_background": "light"
     },
     "output_type": "display_data"
    },
    {
     "data": {
      "image/png": "[encoded data removed]",
      "text/plain": [
       "<Figure size 432x288 with 1 Axes>"
      ]
     },
     "metadata": {
      "needs_background": "light"
     },
     "output_type": "display_data"
    },
    {
     "data": {
      "image/png": "[encoded data removed]",
      "text/plain": [
       "<Figure size 432x288 with 1 Axes>"
      ]
     },
     "metadata": {
      "needs_background": "light"
     },
     "output_type": "display_data"
    },
    {
     "data": {
      "image/png": "[encoded data removed]",
      "text/plain": [
       "<Figure size 432x288 with 1 Axes>"
      ]
     },
     "metadata": {
      "needs_background": "light"
     },
     "output_type": "display_data"
    },
    {
     "data": {
      "image/png": "[encoded data removed]",
      "text/plain": [
       "<Figure size 432x288 with 1 Axes>"
      ]
     },
     "metadata": {
      "needs_background": "light"
     },
     "output_type": "display_data"
    },
    {
     "data": {
      "image/png": "[encoded data removed]",
      "text/plain": [
       "<Figure size 432x288 with 1 Axes>"
      ]
     },
     "metadata": {
      "needs_background": "light"
     },
     "output_type": "display_data"
    },
    {
     "data": {
      "image/png": "[encoded data removed]",
      "text/plain": [
       "<Figure size 432x288 with 1 Axes>"
      ]
     },
     "metadata": {
      "needs_background": "light"
     },
     "output_type": "display_data"
    },
    {
     "data": {
      "image/png": "[encoded data removed]",
      "text/plain": [
       "<Figure size 432x288 with 1 Axes>"
      ]
     },
     "metadata": {
      "needs_background": "light"
     },
     "output_type": "display_data"
    },
    {
     "data": {
      "image/png": "[encoded data removed]",
      "text/plain": [
       "<Figure size 432x288 with 1 Axes>"
      ]
     },
     "metadata": {
      "needs_background": "light"
     },
     "output_type": "display_data"
    },
    {
     "data": {
      "image/png": "[encoded data removed]",
      "text/plain": [
       "<Figure size 432x288 with 1 Axes>"
      ]
     },
     "metadata": {
      "needs_background": "light"
     },
     "output_type": "display_data"
    },
    {
     "data": {
      "image/png": "[encoded data removed]",
      "text/plain": [
       "<Figure size 432x288 with 1 Axes>"
      ]
     },
     "metadata": {
      "needs_background": "light"
     },
     "output_type": "display_data"
    },
    {
     "data": {
      "image/png": "[encoded data removed]",
      "text/plain": [
       "<Figure size 432x288 with 1 Axes>"
      ]
     },
     "metadata": {
      "needs_background": "light"
     },
     "output_type": "display_data"
    }
   ],
   "source": [
    "n_data = 5000 # nombre de donne\n",
    "\n",
    "mnist_mod_data = mnist_train_mod[:n_data, 1:]\n",
    "mnist_data = mnist_train[:n_data, 1:]\n",
    "#mnist_mod_data = mnist_data\n",
    "\n",
    "d_mod = metrics.pairwise_distances(mnist_mod_data, mnist_mod_data)\n",
    "\n",
    "d_euc = metrics.pairwise.euclidean_distances(mnist_data, mnist_data)\n",
    "\n",
    "\n",
    "#print(d_mod)\n",
    "\n",
    "np.random.seed(25255)\n",
    "\n",
    "# initialize les medoids\n",
    "initial_medoids = np.zeros((10), dtype=\"int32\")\n",
    "for i in range(10):\n",
    "    n = np.random.randint(n_data)\n",
    "    while n in initial_medoids:\n",
    "        n = np.random.randint(n_data)\n",
    "        \n",
    "    initial_medoids[i] = n\n",
    "\n",
    "print(\"Medoid intitaux: \" + str(initial_medoids))\n",
    "\n",
    "#print(d_mod.shape)\n",
    "\n",
    "#cas fourier\n",
    "k_mod = kmedoids(d_mod, initial_medoids, data_type='distance_matrix')\n",
    "k_mod.process()\n",
    "medoids = k_mod.get_medoids()\n",
    "\n",
    "print(\"Image des medoids obtenus par les donné des distance des centroid dans la base original\")\n",
    "for cent in mnist_data[medoids] :    \n",
    "    plt.figure()\n",
    "    printImage(cent)\n",
    "\n",
    "# cas eucliden\n",
    "k_euc = kmedoids(d_euc, initial_medoids, data_type='distance_matrix')\n",
    "k_euc.process()\n",
    "medoids = k_euc.get_medoids()\n",
    "\n",
    "print(\"Image des medoids obtenue par la distance euclidienne entre le donnés\")\n",
    "for cent in mnist_data[medoids] :\n",
    "    plt.figure()\n",
    "    printImage(cent)\n",
    "    \n",
    "    "
   ]
  },
  {
   "cell_type": "markdown",
   "metadata": {},
   "source": [
    "#### Evaluation"
   ]
  },
  {
   "cell_type": "code",
   "execution_count": 9,
   "metadata": {
    "scrolled": false
   },
   "outputs": [
    {
     "name": "stdout",
     "output_type": "stream",
     "text": [
      "0.174888974182\n",
      "0.0486584837727\n"
     ]
    }
   ],
   "source": [
    "def prediction(clusters, datasize):\n",
    "    predict = np.zeros((datasize), dtype=\"int32\")\n",
    "    for i in range(len(clusters)):\n",
    "        predict[clusters[i]] = i\n",
    "    return predict\n",
    "\n",
    "predictions_mod = prediction(k_mod.get_clusters(), mnist_mod_data.shape[0])\n",
    "#print(predictions_fft)\n",
    "print(\"Score silhouette de la distance centroid: \" + str(metrics.silhouette_score(mnist_mod_data, predictions_mod)))\n",
    "\n",
    "predictions_euc = prediction(k_euc.get_clusters(), mnist_data.shape[0])\n",
    "print(\"Score silhouette de la distance centroid :\" + str(metrics.silhouette_score(mnist_data, predictions_euc)))"
   ]
  },
  {
   "cell_type": "markdown",
   "metadata": {},
   "source": [
    "### Partition binaire"
   ]
  },
  {
   "cell_type": "code",
   "execution_count": 10,
   "metadata": {
    "scrolled": true
   },
   "outputs": [
    {
     "name": "stdout",
     "output_type": "stream",
     "text": [
      "0.162009422303\n",
      "0.0535406474934\n"
     ]
    }
   ],
   "source": [
    "#cas transformer de fourier\n",
    "clustering_mod = AgglomerativeClustering(n_clusters=10, linkage=\"average\").fit(mnist_mod_data)\n",
    "\n",
    "\n",
    "# cas normal\n",
    "clustering_euc = AgglomerativeClustering(n_clusters=10, linkage=\"average\").fit(mnist_data)\n",
    "\n",
    "#prediction\n",
    "predictions_mod = clustering_mod.labels_\n",
    "print(\"Score silhouette de la distance centroid: \" + str(metrics.silhouette_score(mnist_mod_data, predictions_mod)))\n",
    "\n",
    "\n",
    "predictions_euc = clustering_euc.labels_\n",
    "print(\"Score silhouette de la distance centroid :\" + str(metrics.silhouette_score(mnist_data, predictions_euc)))"
   ]
  },
  {
   "cell_type": "code",
   "execution_count": 11,
   "metadata": {},
   "outputs": [
    {
     "name": "stdout",
     "output_type": "stream",
     "text": [
      "1.0\n",
      "0.773\n"
     ]
    }
   ],
   "source": [
    "from sklearn.neighbors import KNeighborsClassifier\n",
    "\n",
    "mnist_train1 = mnist_train_mod\n",
    "mnist_test1 = mnist_test_mod\n",
    "mnist_train2 = mnist_train[:1000]\n",
    "mnist_test2 = mnist_test[:1000]\n",
    "#in_euc = lambda x, y : -(np.sqrt(np.sum((x - y)**2)))\n",
    "knn_fft = KNeighborsClassifier(5).fit(mnist_train1[:, 1:], mnist_train1[:, 0])\n",
    "print(knn_fft.score(mnist_test1[:, 1:], mnist_test1[:, 0]))\n",
    "knn_euc = KNeighborsClassifier(8).fit(mnist_train2[:, 1:], mnist_train2[:, 0])\n",
    "print(knn_euc.score(mnist_test2[:, 1:], mnist_test2[:, 0]))"
   ]
  },
  {
   "cell_type": "code",
   "execution_count": null,
   "metadata": {},
   "outputs": [],
   "source": []
  },
  {
   "cell_type": "code",
   "execution_count": null,
   "metadata": {},
   "outputs": [],
   "source": []
  }
 ],
 "metadata": {
  "kernelspec": {
   "display_name": "Python 3",
   "language": "python",
   "name": "python3"
  },
  "language_info": {
   "codemirror_mode": {
    "name": "ipython",
    "version": 3
   },
   "file_extension": ".py",
   "mimetype": "text/x-python",
   "name": "python",
   "nbconvert_exporter": "python",
   "pygments_lexer": "ipython3",
   "version": "3.5.2"
  }
 },
 "nbformat": 4,
 "nbformat_minor": 2
}
