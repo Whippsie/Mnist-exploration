{
 "cells": [
  {
   "cell_type": "markdown",
   "metadata": {},
   "source": [
    "# Devoir 1\n",
    "\n",
    "## Initialisations\n",
    "### Importation des modules"
   ]
  },
  {
   "cell_type": "code",
   "execution_count": 5,
   "metadata": {},
   "outputs": [],
   "source": [
    "import numpy as np\n",
    "from sklearn.cluster import KMeans\n",
    "from pyclustering.cluster.kmedoids import kmedoids\n",
    "from pyclustering.cluster.center_initializer import kmeans_plusplus_initializer\n",
    "from sklearn.cluster import AgglomerativeClustering\n",
    "from sklearn.decomposition import PCA\n",
    "import sklearn.metrics as metrics\n",
    "import scipy.fftpack as fftpack\n",
    "import scipy\n",
    "\n",
    "import matplotlib.pyplot as plt\n",
    "import matplotlib.image as img \n",
    "%matplotlib inline"
   ]
  },
  {
   "cell_type": "markdown",
   "metadata": {},
   "source": [
    "### Fonction Utile"
   ]
  },
  {
   "cell_type": "code",
   "execution_count": 6,
   "metadata": {},
   "outputs": [],
   "source": [
    "def printImage(x, width=28, height=28):\n",
    "    plt.imshow(x.reshape((height, width)), cmap='gray')\n"
   ]
  },
  {
   "cell_type": "markdown",
   "metadata": {},
   "source": [
    "## Definition des listes de données mnist\n"
   ]
  },
  {
   "cell_type": "code",
   "execution_count": 7,
   "metadata": {},
   "outputs": [],
   "source": [
    "f = lambda x : 1 if x > 200 else 0\n",
    "normalize = np.vectorize(f)\n",
    "\n",
    "mnist_train = np.loadtxt(\"mnist_train.csv\", delimiter=\",\", skiprows=1)\n",
    "mnist_train[:, 1:] = normalize(mnist_train[:,1:])\n",
    "\n",
    "mnist_test = np.loadtxt(\"mnist_test.csv\", delimiter=\",\", skiprows=1)\n",
    "mnist_test[:, 1:] = normalize(mnist_test[:,1:])\n",
    "\n"
   ]
  },
  {
   "cell_type": "code",
   "execution_count": 8,
   "metadata": {},
   "outputs": [],
   "source": [
    "n_train_data = mnist_train.shape[0]\n",
    "\n",
    "n_test_data = mnist_test.shape[0]\n",
    "\n",
    "ndim = mnist_train.shape[1] - 1\n",
    "img_dim = int(ndim ** (1./2.))"
   ]
  },
  {
   "cell_type": "markdown",
   "metadata": {},
   "source": [
    "## Traitement par centroid\n",
    "\n",
    "Pour ce traitement, on commence par calculer le centroid de l'image en calculant la moyenne des coordonées x, y des pixels noires de l'image. Ensuite, on subdivise l'image n fois. Celà donne $2^n$ sous images. Pour chacune de ces sous images, on calcul le centroid de celle ci de la même manière que pour l'image complète. Ensuite, on garde dans un vecteur les centroides d'une sous-image corriger avec le centroide de l'image complète. ceci nous donne un vecteur de dimension $2^n * 2$. n, dans ce model, est un hyperparamètre.\n",
    "\n",
    "L'idée derrière cette methode est que si on regarde pixel par pixel deux images d'un même chiffre, on obtient beaucoup de différence. En prenant des sous-sections plus large, on élimine les petites variations de pixels et on garde une forme plus globale. \n",
    "\n",
    "Dans l'algorithme, on applique aussi deux transformations pour esseyer d'uniformiser les données. D'abord, on recentre les données par rapport au centroid. Ensuite, on fait une transformation d'échelle pour que les données aient à peut près toutes la même taille. La transformation d'échelle prend les données les plus éloignés en x et en y et applique la transformation qui emmène ces points aux coordonnées 14 ou -14 dans les deux directions.\n",
    "\n",
    "Par la suite la distance euclidienne sera utilisé pour comparer les nouveaux vecteurs obtenues"
   ]
  },
  {
   "cell_type": "code",
   "execution_count": 181,
   "metadata": {},
   "outputs": [
    {
     "data": {
      "image/png": "[encoded data removed]",
      "text/plain": [
       "<Figure size 432x288 with 1 Axes>"
      ]
     },
     "metadata": {
      "needs_background": "light"
     },
     "output_type": "display_data"
    }
   ],
   "source": [
    "#retourne le centroid des point noire d'une image en coordonné (vertical, horizontale)\n",
    "def get_center(x):\n",
    "    dx, dy = x.shape[0], x.shape[1]\n",
    "    vect = np.zeros((dx*dy, 2))\n",
    "    k = 0\n",
    "    result = np.zeros((2))\n",
    "    var = 0\n",
    "    for i in range(dy):\n",
    "        for j in range(dx):\n",
    "            if x[i, j] == 1:\n",
    "                result += np.array([i, j])\n",
    "                k += 1\n",
    "    # on retourne le centroid ou (-1, -1) si l'image est vide\n",
    "    return result / k if k > 0 else np.zeros(2) - 1\n",
    "\n",
    "\n",
    "#calcul la distance des centroid des différentes \n",
    "#sous-section de l'image avec le centroid de limage total, \n",
    "#le nombre de separation doite etre un diviseur de 28\n",
    "def grid(x, n=2):\n",
    "    ndim = 28\n",
    "    img = x.reshape((28, 28))\n",
    "    delta = ndim // n #saut de coordonné entre les sous parties\n",
    "    center = get_center(img) # centre de l'image\n",
    "    #initialisation des centroids des sous parties\n",
    "    centroids = np.zeros((n, n, 2)) \n",
    "    for i in range(n):\n",
    "        for j in range(n):\n",
    "            i_square = i*delta #origine verticale du carré \n",
    "            j_square = j*delta #origine horizontale du carré\n",
    "            #centroid de l'image\n",
    "            cent = get_center(img[i_square:(i+1)*delta, j_square:(j+1)*delta]) \n",
    "            #cas où le carré est vide\n",
    "            if cent[0] == -1:\n",
    "                \"\"\"on appplique une pénalité de -15 (hors de l'image) si le carré est vide.\n",
    "                     Pour que la pénalité soit relative à la position du carré (afin que la \n",
    "                     pénalité soit consistante quand on calculera la distance entre deux image)\n",
    "                     on applique la pénalité relativement à la position du carré\"\"\"\n",
    "                centroids[i, j] = np.zeros((2)) - 15 * np.array([n - i, n - j])\n",
    "            #cas où le entroid existe\n",
    "            else:\n",
    "                 \n",
    "                centroids[i, j] = np.array([i_square, j_square]) + cent - center\n",
    "                \n",
    "    #résultat des centroid transformer en un vecteur de n**2 donné bidimensionelle\n",
    "    a_centroids = centroids.reshape((n**2, 2))\n",
    "    #calcul des coordoné extreme\n",
    "    max_v = np.max(np.abs(a_centroids[a_centroids[:,0] > -15, 0]))\n",
    "    \n",
    "    max_h = np.max(np.abs(a_centroids[a_centroids[:,1] > -15, 1]))\n",
    "    max_v_ratio = 1.\n",
    "    max_h_ratio = 1.\n",
    "    #le centroid doit être différent de (0, 0) pour appliquer un changement d'échelle\n",
    "    if max_v > 0:\n",
    "        max_v_ratio = 14 / max_v\n",
    "        \n",
    "    if max_h > 0:\n",
    "        max_h_ratio = 14 / max_h\n",
    "    \n",
    "    a_centroids *= np.array([max_v_ratio, max_h_ratio])\n",
    "    return a_centroids.reshape((n**2*2)) #on transforme en un vecteur \n",
    "\n",
    "#applique grid a une liste de donné\n",
    "def to_grids(x, n_sub=2):\n",
    "    \n",
    "    n_data = x.shape[0]\n",
    "    \n",
    "    n_sub_dim = n_sub**2*2\n",
    "    result = np.zeros((n_data, n_sub_dim))\n",
    "    for i in range(n_data):\n",
    "        result[i] = grid(x[i], n_sub) #les donné sont transformer en vecteur\n",
    "        \n",
    "    return result\n",
    "\n",
    "\n",
    "#print(grid(mnist_train[100 ,1:], 7))\n",
    "\n",
    "#teste pour la chiffre 5\n",
    "test1 = grid(mnist_class[5][10], 6)\n",
    "test2 = grid(mnist_class[5][0], 6)\n",
    "\n",
    "#on élimine le donné hors de l'écran\n",
    "test1 = test1[np.abs(test1) < 15]\n",
    "test2 = test2[np.abs(test2) < 15 ]\n",
    " \n",
    "plt.scatter(test1.reshape(test1.shape[0]//2, 2)[:, 0], test1.reshape(test1.shape[0]//2, 2)[:, 1])\n",
    "plt.scatter(test2.reshape(test2.shape[0]//2, 2)[:, 0], test2.reshape(test2.shape[0]//2, 2)[:, 1])\n",
    "plt.show()\n"
   ]
  },
  {
   "cell_type": "markdown",
   "metadata": {},
   "source": [
    "On peut voire qu'on obtient une forme générale similaire pour les deux valuer de 5"
   ]
  },
  {
   "cell_type": "markdown",
   "metadata": {},
   "source": [
    "## Algorithmes\n",
    "\n",
    "Pour Commencer nous appliquon la transformation aux donné. Dans ce cas là nous avon chosi un exmaplaire de 6000 donné d'entrainement. Le nombre de subdivision est fixé à 12."
   ]
  },
  {
   "cell_type": "code",
   "execution_count": 118,
   "metadata": {},
   "outputs": [],
   "source": [
    "n_sub_div = 12 #nombre de subdivision d'image (hyperparamètre)\n",
    "n_sub_dim = n_sub_div**2*2 #dimension du vecteur résultant en fonction du nombre de subdivision\n",
    "n_examples = 6000\n",
    "#transformation des donné mnist (peu prendre un certain temps)\n",
    "#n_example = 5000\n",
    "\n",
    "\n",
    "# traitment en série de centroid\n",
    "\n",
    "grid_train = to_grids(mnist_train[:n_examples, 1:], n_sub_div)\n",
    "\n",
    "grid_test = to_grids(mnist_test[:, 1:], n_sub_div)\n",
    "\n",
    "#initialisation des nouveau vecteur de donné\n",
    "mnist_train_mod = np.zeros((n_examples, n_sub_dim + 1))\n",
    "mnist_test_mod = np.zeros((n_test_data, n_sub_dim + 1))\n",
    "\n",
    "#on place les donné\n",
    "mnist_train_mod[:, 1:] = grid_train\n",
    "\n",
    "mnist_test_mod[:, 1:] = grid_test\n",
    "\n",
    "#on place les label dans le premier entré de chaque vecteur de donné\n",
    "mnist_train_mod[:, 0] = mnist_train[:n_examples, 0]\n",
    "mnist_test_mod[:, 0] = mnist_test[:, 0]\n",
    "\n",
    "#print(mnist_train_mod[0])"
   ]
  },
  {
   "cell_type": "markdown",
   "metadata": {},
   "source": [
    "### K-medoid\n",
    "Voici une comparaison entre k-medoid avec la distance euclidienne et et avec la distance définit plus haut. Pour comparé les résultat les même médoids initiaux sont utilisé pour les deux algorithme. Il sont choisit aléatoirement parmi le données. Pour représenté les dix chiffres on a choisi un k = 10."
   ]
  },
  {
   "cell_type": "code",
   "execution_count": 173,
   "metadata": {},
   "outputs": [
    {
     "name": "stdout",
     "output_type": "stream",
     "text": [
      "Medoid intitaux: [ 949 1720 1641  255  186  224 1637  544 1908  143]\n",
      "Image des medoids obtenus par les donné des distance des centroid dans la base original\n"
     ]
    },
    {
     "data": {
      "image/png": "[encoded data removed]",
      "text/plain": [
       "<Figure size 432x288 with 1 Axes>"
      ]
     },
     "metadata": {
      "needs_background": "light"
     },
     "output_type": "display_data"
    },
    {
     "data": {
      "image/png": "[encoded data removed]",
      "text/plain": [
       "<Figure size 432x288 with 1 Axes>"
      ]
     },
     "metadata": {
      "needs_background": "light"
     },
     "output_type": "display_data"
    },
    {
     "data": {
      "image/png": "[encoded data removed]",
      "text/plain": [
       "<Figure size 432x288 with 1 Axes>"
      ]
     },
     "metadata": {
      "needs_background": "light"
     },
     "output_type": "display_data"
    },
    {
     "data": {
      "image/png": "[encoded data removed]",
      "text/plain": [
       "<Figure size 432x288 with 1 Axes>"
      ]
     },
     "metadata": {
      "needs_background": "light"
     },
     "output_type": "display_data"
    },
    {
     "data": {
      "image/png": "[encoded data removed]",
      "text/plain": [
       "<Figure size 432x288 with 1 Axes>"
      ]
     },
     "metadata": {
      "needs_background": "light"
     },
     "output_type": "display_data"
    },
    {
     "data": {
      "image/png": "[encoded data removed]",
      "text/plain": [
       "<Figure size 432x288 with 1 Axes>"
      ]
     },
     "metadata": {
      "needs_background": "light"
     },
     "output_type": "display_data"
    },
    {
     "data": {
      "image/png": "[encoded data removed]",
      "text/plain": [
       "<Figure size 432x288 with 1 Axes>"
      ]
     },
     "metadata": {
      "needs_background": "light"
     },
     "output_type": "display_data"
    },
    {
     "data": {
      "image/png": "[encoded data removed]",
      "text/plain": [
       "<Figure size 432x288 with 1 Axes>"
      ]
     },
     "metadata": {
      "needs_background": "light"
     },
     "output_type": "display_data"
    },
    {
     "data": {
      "image/png": "[encoded data removed]",
      "text/plain": [
       "<Figure size 432x288 with 1 Axes>"
      ]
     },
     "metadata": {
      "needs_background": "light"
     },
     "output_type": "display_data"
    },
    {
     "data": {
      "image/png": "[encoded data removed]",
      "text/plain": [
       "<Figure size 432x288 with 1 Axes>"
      ]
     },
     "metadata": {
      "needs_background": "light"
     },
     "output_type": "display_data"
    },
    {
     "name": "stdout",
     "output_type": "stream",
     "text": [
      "Image des medoids obtenue par la distance euclidienne entre le donnés\n"
     ]
    },
    {
     "data": {
      "image/png": "[encoded data removed]",
      "text/plain": [
       "<Figure size 432x288 with 1 Axes>"
      ]
     },
     "metadata": {
      "needs_background": "light"
     },
     "output_type": "display_data"
    },
    {
     "data": {
      "image/png": "[encoded data removed]",
      "text/plain": [
       "<Figure size 432x288 with 1 Axes>"
      ]
     },
     "metadata": {
      "needs_background": "light"
     },
     "output_type": "display_data"
    },
    {
     "data": {
      "image/png": "[encoded data removed]",
      "text/plain": [
       "<Figure size 432x288 with 1 Axes>"
      ]
     },
     "metadata": {
      "needs_background": "light"
     },
     "output_type": "display_data"
    },
    {
     "data": {
      "image/png": "[encoded data removed]",
      "text/plain": [
       "<Figure size 432x288 with 1 Axes>"
      ]
     },
     "metadata": {
      "needs_background": "light"
     },
     "output_type": "display_data"
    },
    {
     "data": {
      "image/png": "[encoded data removed]",
      "text/plain": [
       "<Figure size 432x288 with 1 Axes>"
      ]
     },
     "metadata": {
      "needs_background": "light"
     },
     "output_type": "display_data"
    },
    {
     "data": {
      "image/png": "[encoded data removed]",
      "text/plain": [
       "<Figure size 432x288 with 1 Axes>"
      ]
     },
     "metadata": {
      "needs_background": "light"
     },
     "output_type": "display_data"
    },
    {
     "data": {
      "image/png": "[encoded data removed]",
      "text/plain": [
       "<Figure size 432x288 with 1 Axes>"
      ]
     },
     "metadata": {
      "needs_background": "light"
     },
     "output_type": "display_data"
    },
    {
     "data": {
      "image/png": "[encoded data removed]",
      "text/plain": [
       "<Figure size 432x288 with 1 Axes>"
      ]
     },
     "metadata": {
      "needs_background": "light"
     },
     "output_type": "display_data"
    },
    {
     "data": {
      "image/png": "[encoded data removed]",
      "text/plain": [
       "<Figure size 432x288 with 1 Axes>"
      ]
     },
     "metadata": {
      "needs_background": "light"
     },
     "output_type": "display_data"
    },
    {
     "data": {
      "image/png": "[encoded data removed]",
      "text/plain": [
       "<Figure size 432x288 with 1 Axes>"
      ]
     },
     "metadata": {
      "needs_background": "light"
     },
     "output_type": "display_data"
    }
   ],
   "source": [
    "n_data = 2000 # nombre de donne pour faire le teste\n",
    "\n",
    "#on retire les labels au donné pour seulement garder les composantes\n",
    "mnist_mod_data = mnist_train_mod[:n_data, 1:]\n",
    "mnist_data = mnist_train[:n_data, 1:]\n",
    "\n",
    "# matrice de distance enre les donné transformer\n",
    "d_mod = metrics.pairwise_distances(mnist_mod_data, mnist_mod_data)\n",
    "#matrice de distance euclidienne\n",
    "d_euc = metrics.pairwise.euclidean_distances(mnist_data, mnist_data)\n",
    "\n",
    "\n",
    "np.random.seed(2555)\n",
    "\n",
    "# initialize les medoids\n",
    "initial_medoids = np.zeros((10), dtype=\"int32\")\n",
    "for i in range(10):\n",
    "    n = np.random.randint(n_data)\n",
    "    while n in initial_medoids:\n",
    "        n = np.random.randint(n_data)\n",
    "        \n",
    "    initial_medoids[i] = n\n",
    "\n",
    "print(\"Medoid intitaux: \" + str(initial_medoids))\n",
    "\n",
    "\n",
    "\n",
    "#cas donné transformer\n",
    "k_mod = kmedoids(d_mod, initial_medoids, data_type='distance_matrix')\n",
    "k_mod.process()\n",
    "medoids = k_mod.get_medoids()\n",
    "\n",
    "\n",
    "print(\"Image des medoids obtenus par les donné des distance des centroid dans la base original\")\n",
    "for cent in mnist_data[medoids] :    \n",
    "    plt.figure()\n",
    "    printImage(cent)\n",
    "\n",
    "plt.show()\n",
    "# cas eucliden\n",
    "k_euc = kmedoids(d_euc, initial_medoids, data_type='distance_matrix')\n",
    "k_euc.process()\n",
    "medoids = k_euc.get_medoids()\n",
    "\n",
    "\n",
    "print(\"Image des medoids obtenue par la distance euclidienne entre le donnés\")\n",
    "for cent in mnist_data[medoids] :\n",
    "    plt.figure()\n",
    "    printImage(cent)\n",
    "\n",
    "plt.show()\n",
    "    "
   ]
  },
  {
   "cell_type": "markdown",
   "metadata": {},
   "source": [
    "#### Evaluation\n",
    "\n",
    "On compare les scores silouhette de k-medoid pour les deux distances."
   ]
  },
  {
   "cell_type": "code",
   "execution_count": 174,
   "metadata": {
    "scrolled": false
   },
   "outputs": [
    {
     "name": "stdout",
     "output_type": "stream",
     "text": [
      "Score silhouette de la distance centroid: 0.0501437571746\n",
      "Score silhouette de la distance centroid :0.0247450964097\n"
     ]
    }
   ],
   "source": [
    "\"\"\"fonction qui transforme un les donné séparé en cluster \n",
    "    pour obtenir la liste des cluster associé a chaque donné\"\"\"\n",
    "\n",
    "def prediction(clusters, datasize):\n",
    "    predict = np.zeros((datasize), dtype=\"int32\")\n",
    "    for i in range(len(clusters)):\n",
    "        predict[clusters[i]] = i\n",
    "    return predict\n",
    "\n",
    "predictions_mod = prediction(k_mod.get_clusters(), mnist_mod_data.shape[0])\n",
    "#print(predictions_fft)\n",
    "print(\"Score silhouette de la distance centroid: \" + str(metrics.silhouette_score(mnist_mod_data, predictions_mod)))\n",
    "\n",
    "predictions_euc = prediction(k_euc.get_clusters(), mnist_data.shape[0])\n",
    "print(\"Score silhouette de la distance centroid :\" + str(metrics.silhouette_score(mnist_data, predictions_euc)))"
   ]
  },
  {
   "cell_type": "markdown",
   "metadata": {},
   "source": [
    "On peut voire que il y a une légère amélioration de la définition des groupes avec la nouvelle distance par rapport à la distance euclidienne. Cette amélioration est d'autant plus grande si on réduit le nombre de subdivision en effet pour le cas ou n = 4 voici se qu'on obtient"
   ]
  },
  {
   "cell_type": "markdown",
   "metadata": {},
   "source": [
    "### Partition binaire\n",
    "Maintenant on évalue les deux distance pour l'algorithme de partition binaire. On évalue aussi le score silouhette. "
   ]
  },
  {
   "cell_type": "code",
   "execution_count": 146,
   "metadata": {
    "scrolled": true
   },
   "outputs": [
    {
     "name": "stdout",
     "output_type": "stream",
     "text": [
      "Score silhouette de la distance centroid: 0.604137451357\n",
      "Score silhouette de la distance centroid :0.0652235375955\n"
     ]
    }
   ],
   "source": [
    "#cas transformer de fourier\n",
    "clustering_mod = AgglomerativeClustering(n_clusters=10, linkage=\"average\").fit(mnist_mod_data)\n",
    "\n",
    "\n",
    "# cas normal\n",
    "clustering_euc = AgglomerativeClustering(n_clusters=10, linkage=\"average\").fit(mnist_data)\n",
    "\n",
    "#prediction\n",
    "predictions_mod = clustering_mod.labels_\n",
    "print(\"Score silhouette de la distance centroid: \" + str(metrics.silhouette_score(mnist_mod_data, predictions_mod)))\n",
    "\n",
    "\n",
    "predictions_euc = clustering_euc.labels_\n",
    "print(\"Score silhouette de la distance centroid :\" + str(metrics.silhouette_score(mnist_data, predictions_euc)))"
   ]
  },
  {
   "cell_type": "markdown",
   "metadata": {},
   "source": [
    "Les regroupement semble beaucoup mieux définit avec la nouvelle distance si on se fi au score silouhette. la distance semble donc mieux fonctionner avec le partitionnement binaire qu'avec k-médoid."
   ]
  },
  {
   "cell_type": "code",
   "execution_count": 170,
   "metadata": {},
   "outputs": [
    {
     "name": "stdout",
     "output_type": "stream",
     "text": [
      "0.876\n",
      "0.738\n"
     ]
    }
   ],
   "source": [
    "from sklearn.neighbors import KNeighborsClassifier\n",
    "\n",
    "mnist_train1 = mnist_train_mod[:2000]\n",
    "mnist_test1 = mnist_test_mod[:500]\n",
    "mnist_train2 = mnist_train[:2000]\n",
    "mnist_test2 = mnist_test[:500]\n",
    "#in_euc = lambda x, y : -(np.sqrt(np.sum((x - y)**2)))\n",
    "knn_fft = KNeighborsClassifier(12).fit(mnist_train1[:, 1:], mnist_train1[:, 0])\n",
    "print(knn_fft.score(mnist_test1[:, 1:], mnist_test1[:, 0]))\n",
    "knn_euc = KNeighborsClassifier(6).fit(mnist_train2[:, 1:], mnist_train2[:, 0])\n",
    "print(knn_euc.score(mnist_test2[:, 1:], mnist_test2[:, 0]))"
   ]
  },
  {
   "cell_type": "code",
   "execution_count": null,
   "metadata": {},
   "outputs": [],
   "source": []
  },
  {
   "cell_type": "code",
   "execution_count": null,
   "metadata": {},
   "outputs": [],
   "source": []
  }
 ],
 "metadata": {
  "kernelspec": {
   "display_name": "Python 3",
   "language": "python",
   "name": "python3"
  },
  "language_info": {
   "codemirror_mode": {
    "name": "ipython",
    "version": 3
   },
   "file_extension": ".py",
   "mimetype": "text/x-python",
   "name": "python",
   "nbconvert_exporter": "python",
   "pygments_lexer": "ipython3",
   "version": "3.5.2"
  }
 },
 "nbformat": 4,
 "nbformat_minor": 2
}
